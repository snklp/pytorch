{
 "cells": [
  {
   "cell_type": "code",
   "execution_count": 15,
   "id": "ce07bdd5",
   "metadata": {},
   "outputs": [],
   "source": [
    "import torch\n",
    "import torchvision.datasets as datasets\n",
    "import torchvision.transforms as transforms\n",
    "from torch.utils.data import DataLoader\n",
    "import torch.nn as nn\n",
    "import torch.nn.functional as F\n",
    "import torch.optim as optim"
   ]
  },
  {
   "cell_type": "code",
   "execution_count": 16,
   "id": "5a3eaa8c",
   "metadata": {},
   "outputs": [],
   "source": [
    "device = torch.device('cuda' if torch.cuda.is_available() else 'cpu')"
   ]
  },
  {
   "cell_type": "code",
   "execution_count": 17,
   "id": "b8751d5f",
   "metadata": {},
   "outputs": [],
   "source": [
    "train_dataset = datasets.MNIST(root='Data', train=True, transform=transforms.ToTensor(), download=True)\n",
    "test_dataset = datasets.MNIST(root='Data', train=False, transform=transforms.ToTensor(), download=True)"
   ]
  },
  {
   "cell_type": "code",
   "execution_count": 18,
   "id": "5f430bd7",
   "metadata": {},
   "outputs": [],
   "source": [
    "train_loader = DataLoader(dataset=train_dataset, batch_size=64, shuffle=True)\n",
    "test_loader = DataLoader(dataset=train_dataset, batch_size=64, shuffle=True)"
   ]
  },
  {
   "cell_type": "markdown",
   "id": "ef70c508",
   "metadata": {},
   "source": [
    "### नमूना"
   ]
  },
  {
   "cell_type": "code",
   "execution_count": 20,
   "id": "d43bac57",
   "metadata": {},
   "outputs": [
    {
     "name": "stdout",
     "output_type": "stream",
     "text": [
      "CNN(\n",
      "  (conv1): Conv2d(1, 8, kernel_size=(3, 3), stride=(1, 1), padding=(1, 1))\n",
      "  (conv2): Conv2d(8, 16, kernel_size=(3, 3), stride=(1, 1), padding=(1, 1))\n",
      "  (pool): MaxPool2d(kernel_size=(2, 2), stride=(2, 2), padding=0, dilation=1, ceil_mode=False)\n",
      "  (fc1): Linear(in_features=784, out_features=10, bias=True)\n",
      ")\n"
     ]
    }
   ],
   "source": [
    "class CNN(nn.Module):\n",
    "    def __init__(self):\n",
    "        super().__init__()\n",
    "        self.conv1 = nn.Conv2d(1, 8, 3, padding=(1,1))   #28/2\n",
    "        self.conv2 = nn.Conv2d(8, 16, 3, padding=(1,1))    #14/2\n",
    "        self.pool = nn.MaxPool2d((2,2))   # kernel_size\n",
    "        self.fc1 = nn.Linear(16*7*7, 10) \n",
    "    def forward(self, x):\n",
    "        x = self.conv1(x)     \n",
    "        x = F.relu(x)       # Applying relu on the features passed through hidden layer 1\n",
    "        x = self.pool(x)    # Applying pooling\n",
    "        x = self.conv2(x)     # passing features throgh hidden layer 2\n",
    "        x = F.relu(x)\n",
    "        x = self.pool(x)\n",
    "        x = x.reshape(x.shape[0], -1)\n",
    "        x = self.fc1(x)\n",
    "        x = F.softmax(x)\n",
    "        return x\n",
    "    \n",
    "model = CNN().to(device)\n",
    "print(model)"
   ]
  },
  {
   "cell_type": "code",
   "execution_count": 27,
   "id": "f0413da9",
   "metadata": {},
   "outputs": [],
   "source": [
    "def save_checkpoints(state, filename='checkpoint.pth.tar'):torch.save(state, filename)\n",
    "\n",
    "def load_checkpoints(checkpoints):\n",
    "    model.load_state_dict(checkpoints['state_dict'])\n",
    "    optimizer.load_state_dict(checkpoints['optimizer'])\n",
    "\n"
   ]
  },
  {
   "cell_type": "markdown",
   "id": "6f8c2ff0",
   "metadata": {},
   "source": [
    "### प्रशिक्षण"
   ]
  },
  {
   "cell_type": "code",
   "execution_count": 23,
   "id": "0ced453f",
   "metadata": {},
   "outputs": [
    {
     "name": "stderr",
     "output_type": "stream",
     "text": [
      "<ipython-input-20-e4ee6cb1eb16>:17: UserWarning: Implicit dimension choice for softmax has been deprecated. Change the call to include dim=X as an argument.\n",
      "  x = F.softmax(x)\n"
     ]
    }
   ],
   "source": [
    "num_epochs = 1\n",
    "loss_function = nn.CrossEntropyLoss()\n",
    "optimizer = optim.Adam(model.parameters(), lr=0.01)\n",
    "\n",
    "torch.load('checkpoints.pth.tar')\n",
    "\n",
    "for epoch in range(num_epochs):\n",
    "    for batch_data in train_loader:\n",
    "        \n",
    "        checkpoints = {'state_dict':model.state_dict(), 'optimizer':optimizer.state_dict()}\n",
    "        torch.save(checkpoints, 'checkpoint.pth.tar')\n",
    "        \n",
    "        \n",
    "        X, y = batch_data    # X(batch of features) & y(batch of corresponding labels)\n",
    "        optimizer.zero_grad()\n",
    "        X = X.to(device)\n",
    "        y = y.to(device)    \n",
    "        \n",
    "        y_ = model(X)\n",
    "        loss = loss_function(y_, y)\n",
    "        loss.backward()\n",
    "        optimizer.step()"
   ]
  },
  {
   "cell_type": "markdown",
   "id": "42673af4",
   "metadata": {},
   "source": [
    "### परीक्षण"
   ]
  },
  {
   "cell_type": "code",
   "execution_count": 25,
   "id": "93e14410",
   "metadata": {},
   "outputs": [
    {
     "name": "stderr",
     "output_type": "stream",
     "text": [
      "<ipython-input-20-e4ee6cb1eb16>:17: UserWarning: Implicit dimension choice for softmax has been deprecated. Change the call to include dim=X as an argument.\n",
      "  x = F.softmax(x)\n"
     ]
    }
   ],
   "source": [
    "correct = 0\n",
    "total = 0\n",
    "\n",
    "for batch_data in test_loader:\n",
    "    X, y = batch_data\n",
    "    X = X.to(device)\n",
    "    y = y.to(device)\n",
    "    y_ = model(X)\n",
    "    for idx, i in enumerate(y_):\n",
    "        if torch.argmax(i) == y[idx]:correct += 1\n",
    "        total += 1"
   ]
  },
  {
   "cell_type": "markdown",
   "id": "d2a40425",
   "metadata": {},
   "source": [
    "### यथार्थता"
   ]
  },
  {
   "cell_type": "code",
   "execution_count": 26,
   "id": "95df3235",
   "metadata": {},
   "outputs": [
    {
     "data": {
      "text/plain": [
       "0.8644166666666667"
      ]
     },
     "execution_count": 26,
     "metadata": {},
     "output_type": "execute_result"
    }
   ],
   "source": [
    "correct/total"
   ]
  },
  {
   "cell_type": "code",
   "execution_count": null,
   "id": "d3859906",
   "metadata": {},
   "outputs": [],
   "source": []
  }
 ],
 "metadata": {
  "kernelspec": {
   "display_name": "Python 3",
   "language": "python",
   "name": "python3"
  },
  "language_info": {
   "codemirror_mode": {
    "name": "ipython",
    "version": 3
   },
   "file_extension": ".py",
   "mimetype": "text/x-python",
   "name": "python",
   "nbconvert_exporter": "python",
   "pygments_lexer": "ipython3",
   "version": "3.8.3"
  }
 },
 "nbformat": 4,
 "nbformat_minor": 5
}
