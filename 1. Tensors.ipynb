{
 "cells": [
  {
   "cell_type": "markdown",
   "metadata": {},
   "source": [
    "\n",
    "\n",
    "Tensors \n",
    "==="
   ]
  },
  {
   "cell_type": "code",
   "execution_count": 6,
   "metadata": {},
   "outputs": [],
   "source": [
    "import torch\n",
    "import numpy as np"
   ]
  },
  {
   "cell_type": "markdown",
   "metadata": {},
   "source": [
    "### Initialiszing Tensor"
   ]
  },
  {
   "cell_type": "markdown",
   "metadata": {},
   "source": [
    "**From a List**"
   ]
  },
  {
   "cell_type": "code",
   "execution_count": 13,
   "metadata": {},
   "outputs": [
    {
     "data": {
      "text/plain": [
       "tensor([[1, 2],\n",
       "        [3, 4]])"
      ]
     },
     "execution_count": 13,
     "metadata": {},
     "output_type": "execute_result"
    }
   ],
   "source": [
    "data = [[1, 2],[3, 4]]\n",
    "x_data = torch.tensor(data)\n",
    "x_data"
   ]
  },
  {
   "cell_type": "markdown",
   "metadata": {},
   "source": [
    "**From a NumPy array**"
   ]
  },
  {
   "cell_type": "code",
   "execution_count": 14,
   "metadata": {},
   "outputs": [
    {
     "data": {
      "text/plain": [
       "tensor([[1, 2],\n",
       "        [3, 4]], dtype=torch.int32)"
      ]
     },
     "execution_count": 14,
     "metadata": {},
     "output_type": "execute_result"
    }
   ],
   "source": [
    "np_array = np.array(data)\n",
    "x_np = torch.from_numpy(np_array)\n",
    "x_np"
   ]
  },
  {
   "cell_type": "markdown",
   "metadata": {},
   "source": [
    "**From another tensor**"
   ]
  },
  {
   "cell_type": "code",
   "execution_count": 15,
   "metadata": {},
   "outputs": [
    {
     "data": {
      "text/plain": [
       "tensor([[1, 1],\n",
       "        [1, 1]])"
      ]
     },
     "execution_count": 15,
     "metadata": {},
     "output_type": "execute_result"
    }
   ],
   "source": [
    "x_ones = torch.ones_like(x_data) # retains properties of x_data\n",
    "x_ones"
   ]
  },
  {
   "cell_type": "code",
   "execution_count": 16,
   "metadata": {},
   "outputs": [
    {
     "data": {
      "text/plain": [
       "tensor([[0.8150, 0.4583],\n",
       "        [0.8277, 0.3401]])"
      ]
     },
     "execution_count": 16,
     "metadata": {},
     "output_type": "execute_result"
    }
   ],
   "source": [
    "x_rand = torch.rand_like(x_data, dtype=torch.float)    # changes datatype of x_data\n",
    "x_rand"
   ]
  },
  {
   "cell_type": "markdown",
   "metadata": {},
   "source": [
    "**With random or constant values**"
   ]
  },
  {
   "cell_type": "code",
   "execution_count": 17,
   "metadata": {},
   "outputs": [
    {
     "name": "stdout",
     "output_type": "stream",
     "text": [
      "tensor([[0.9398, 0.7497, 0.3461],\n",
      "        [0.0056, 0.4517, 0.4746]])\n",
      "tensor([[1., 1., 1.],\n",
      "        [1., 1., 1.]])\n",
      "tensor([[[0., 0., 0., 0.],\n",
      "         [0., 0., 0., 0.],\n",
      "         [0., 0., 0., 0.]],\n",
      "\n",
      "        [[0., 0., 0., 0.],\n",
      "         [0., 0., 0., 0.],\n",
      "         [0., 0., 0., 0.]]])\n"
     ]
    }
   ],
   "source": [
    "rand_tensor = torch.rand(2,3)\n",
    "ones_tensor = torch.ones(2,3,)\n",
    "zeros_tensor = torch.zeros(2,3,4)\n",
    "\n",
    "print(rand_tensor)\n",
    "print(ones_tensor)\n",
    "print(zeros_tensor)\n"
   ]
  },
  {
   "cell_type": "markdown",
   "metadata": {},
   "source": [
    "### Attributes of a Tensor"
   ]
  },
  {
   "cell_type": "code",
   "execution_count": 18,
   "metadata": {},
   "outputs": [
    {
     "name": "stdout",
     "output_type": "stream",
     "text": [
      "torch.Size([3, 4])\n",
      "torch.float32\n",
      "cpu\n"
     ]
    }
   ],
   "source": [
    "tensor = torch.rand(3,4)\n",
    "\n",
    "print(tensor.shape)\n",
    "print(tensor.dtype)\n",
    "print(tensor.device)"
   ]
  },
  {
   "cell_type": "markdown",
   "metadata": {},
   "source": [
    "--------------\n",
    "\n",
    "\n"
   ]
  },
  {
   "cell_type": "markdown",
   "metadata": {},
   "source": [
    "### Operations on Tensors"
   ]
  },
  {
   "cell_type": "markdown",
   "metadata": {},
   "source": [
    "**Moving tensor to GPU (if available)**"
   ]
  },
  {
   "cell_type": "code",
   "execution_count": 22,
   "metadata": {},
   "outputs": [],
   "source": [
    "if torch.cuda.is_available():tensor = tensor.to('cuda')"
   ]
  },
  {
   "cell_type": "markdown",
   "metadata": {},
   "source": [
    "**Standard numpy-like indexing and slicing**"
   ]
  },
  {
   "cell_type": "code",
   "execution_count": 25,
   "metadata": {},
   "outputs": [
    {
     "data": {
      "text/plain": [
       "tensor([[0.3603, 0.6069, 0.3247, 0.9653],\n",
       "        [0.0784, 0.1865, 0.7182, 0.0802],\n",
       "        [0.0524, 0.3287, 0.7905, 0.3699],\n",
       "        [0.8245, 0.9899, 0.7018, 0.9608]])"
      ]
     },
     "execution_count": 25,
     "metadata": {},
     "output_type": "execute_result"
    }
   ],
   "source": [
    "tensor = torch.rand(4, 4)\n",
    "tensor"
   ]
  },
  {
   "cell_type": "code",
   "execution_count": 27,
   "metadata": {},
   "outputs": [
    {
     "name": "stdout",
     "output_type": "stream",
     "text": [
      "tensor([0.3603, 0.6069, 0.3247, 0.9653])\n",
      "tensor([0.3603, 0.0784, 0.0524, 0.8245])\n",
      "tensor([0.9653, 0.0802, 0.3699, 0.9608])\n"
     ]
    }
   ],
   "source": [
    "print(tensor[0])        # tensor @ first index in tensor\n",
    "print(tensor[:, 0])     # first elements of every tensor inside the tensor\n",
    "print(tensor[..., -1])  # last elements of every tensor inside the tensorr"
   ]
  },
  {
   "cell_type": "code",
   "execution_count": 29,
   "metadata": {},
   "outputs": [
    {
     "data": {
      "text/plain": [
       "tensor([[0.3603, 0.0000, 0.3247, 0.9653],\n",
       "        [0.0784, 0.0000, 0.7182, 0.0802],\n",
       "        [0.0524, 0.0000, 0.7905, 0.3699],\n",
       "        [0.8245, 0.0000, 0.7018, 0.9608]])"
      ]
     },
     "execution_count": 29,
     "metadata": {},
     "output_type": "execute_result"
    }
   ],
   "source": [
    "tensor[:,1] = 0  # changing value of the element @ second index of every tensor to Zero\n",
    "tensor"
   ]
  },
  {
   "cell_type": "markdown",
   "metadata": {},
   "source": [
    "**Joining Tensors** "
   ]
  },
  {
   "cell_type": "code",
   "execution_count": 31,
   "metadata": {},
   "outputs": [
    {
     "data": {
      "text/plain": [
       "tensor([[0.3603, 0.0000, 0.3247, 0.9653, 0.3603, 0.0000, 0.3247, 0.9653, 0.3603,\n",
       "         0.0000, 0.3247, 0.9653],\n",
       "        [0.0784, 0.0000, 0.7182, 0.0802, 0.0784, 0.0000, 0.7182, 0.0802, 0.0784,\n",
       "         0.0000, 0.7182, 0.0802],\n",
       "        [0.0524, 0.0000, 0.7905, 0.3699, 0.0524, 0.0000, 0.7905, 0.3699, 0.0524,\n",
       "         0.0000, 0.7905, 0.3699],\n",
       "        [0.8245, 0.0000, 0.7018, 0.9608, 0.8245, 0.0000, 0.7018, 0.9608, 0.8245,\n",
       "         0.0000, 0.7018, 0.9608]])"
      ]
     },
     "execution_count": 31,
     "metadata": {},
     "output_type": "execute_result"
    }
   ],
   "source": [
    "t1 = torch.cat([tensor, tensor, tensor], dim=1)    # dim=1 means along the col. \n",
    "t1"
   ]
  },
  {
   "cell_type": "markdown",
   "metadata": {},
   "source": [
    "**Arithmetic operations**\n",
    "\n"
   ]
  },
  {
   "cell_type": "code",
   "execution_count": 36,
   "metadata": {},
   "outputs": [
    {
     "name": "stdout",
     "output_type": "stream",
     "text": [
      "tensor([[1.1670, 0.3388, 0.6326, 1.4524],\n",
      "        [0.3388, 0.5284, 0.6015, 0.6457],\n",
      "        [0.6326, 0.6015, 0.7644, 0.9534],\n",
      "        [1.4524, 0.6457, 0.9534, 2.0954]])\n",
      "tensor([[1.1670, 0.3388, 0.6326, 1.4524],\n",
      "        [0.3388, 0.5284, 0.6015, 0.6457],\n",
      "        [0.6326, 0.6015, 0.7644, 0.9534],\n",
      "        [1.4524, 0.6457, 0.9534, 2.0954]])\n",
      "tensor([[1.1670, 0.3388, 0.6326, 1.4524],\n",
      "        [0.3388, 0.5284, 0.6015, 0.6457],\n",
      "        [0.6326, 0.6015, 0.7644, 0.9534],\n",
      "        [1.4524, 0.6457, 0.9534, 2.0954]])\n"
     ]
    }
   ],
   "source": [
    "# Matrix Multiplication  (3 Ways (basically 2 ;))\n",
    "\n",
    "print(tensor @ tensor.T)       \n",
    "\n",
    "print(tensor.matmul(tensor.T))\n",
    "\n",
    "y3 = torch.rand_like(tensor)\n",
    "print(torch.matmul(tensor, tensor.T, out=y3))"
   ]
  },
  {
   "cell_type": "code",
   "execution_count": 37,
   "metadata": {},
   "outputs": [
    {
     "name": "stdout",
     "output_type": "stream",
     "text": [
      "tensor([[0.1298, 0.0000, 0.1054, 0.9318],\n",
      "        [0.0061, 0.0000, 0.5159, 0.0064],\n",
      "        [0.0027, 0.0000, 0.6248, 0.1369],\n",
      "        [0.6797, 0.0000, 0.4926, 0.9231]])\n",
      "tensor([[0.1298, 0.0000, 0.1054, 0.9318],\n",
      "        [0.0061, 0.0000, 0.5159, 0.0064],\n",
      "        [0.0027, 0.0000, 0.6248, 0.1369],\n",
      "        [0.6797, 0.0000, 0.4926, 0.9231]])\n",
      "tensor([[0.1298, 0.0000, 0.1054, 0.9318],\n",
      "        [0.0061, 0.0000, 0.5159, 0.0064],\n",
      "        [0.0027, 0.0000, 0.6248, 0.1369],\n",
      "        [0.6797, 0.0000, 0.4926, 0.9231]])\n"
     ]
    }
   ],
   "source": [
    "# Element-wise Product\n",
    "\n",
    "print(tensor * tensor)\n",
    "\n",
    "print(tensor.mul(tensor))\n",
    "\n",
    "z3 = torch.rand_like(tensor)\n",
    "print(torch.mul(tensor, tensor, out=z3))"
   ]
  },
  {
   "cell_type": "markdown",
   "metadata": {},
   "source": [
    "**Single-element tensors** (one-element tensor can be converted to a python\n",
    "numerical value using ``item()``)\n",
    "\n"
   ]
  },
  {
   "cell_type": "code",
   "execution_count": 38,
   "metadata": {},
   "outputs": [
    {
     "name": "stdout",
     "output_type": "stream",
     "text": [
      "tensor(6.2269)\n",
      "6.226935386657715 <class 'float'>\n"
     ]
    }
   ],
   "source": [
    "agg = tensor.sum()\n",
    "print(agg)\n",
    "\n",
    "agg_item = agg.item()  \n",
    "print(agg_item, type(agg_item))"
   ]
  },
  {
   "cell_type": "markdown",
   "metadata": {},
   "source": [
    "**In-place operations**"
   ]
  },
  {
   "cell_type": "code",
   "execution_count": 39,
   "metadata": {},
   "outputs": [
    {
     "name": "stdout",
     "output_type": "stream",
     "text": [
      "tensor([[0.3603, 0.0000, 0.3247, 0.9653],\n",
      "        [0.0784, 0.0000, 0.7182, 0.0802],\n",
      "        [0.0524, 0.0000, 0.7905, 0.3699],\n",
      "        [0.8245, 0.0000, 0.7018, 0.9608]])\n",
      "tensor([[5.3603, 5.0000, 5.3247, 5.9653],\n",
      "        [5.0784, 5.0000, 5.7182, 5.0802],\n",
      "        [5.0524, 5.0000, 5.7905, 5.3699],\n",
      "        [5.8245, 5.0000, 5.7018, 5.9608]])\n"
     ]
    }
   ],
   "source": [
    "print(tensor)\n",
    "tensor.add_(5)   # adds 5 inplace to each element of the tensor\n",
    "print(tensor)"
   ]
  },
  {
   "cell_type": "markdown",
   "metadata": {},
   "source": [
    "--------------\n",
    "\n",
    "\n"
   ]
  },
  {
   "cell_type": "markdown",
   "metadata": {},
   "source": [
    "\n",
    "### Bridge with NumPy\n",
    "~~~~~~~~~~~~~~~~~\n",
    "Tensors on the CPU and NumPy arrays can share their underlying memory\n",
    "locations, and changing one will change the other.\n",
    "\n"
   ]
  },
  {
   "cell_type": "markdown",
   "metadata": {},
   "source": [
    "**Tensor to NumPy array**"
   ]
  },
  {
   "cell_type": "code",
   "execution_count": 40,
   "metadata": {},
   "outputs": [
    {
     "name": "stdout",
     "output_type": "stream",
     "text": [
      "tensor([1., 1., 1., 1., 1.])\n",
      "[1. 1. 1. 1. 1.]\n"
     ]
    }
   ],
   "source": [
    "t = torch.ones(5)\n",
    "print(t)\n",
    "n = t.numpy()\n",
    "print(n)"
   ]
  },
  {
   "cell_type": "markdown",
   "metadata": {},
   "source": [
    "***A change in the tensor reflects in the NumPy array***"
   ]
  },
  {
   "cell_type": "code",
   "execution_count": 43,
   "metadata": {},
   "outputs": [
    {
     "name": "stdout",
     "output_type": "stream",
     "text": [
      "tensor([4., 4., 4., 4., 4.])\n",
      "[4. 4. 4. 4. 4.]\n"
     ]
    }
   ],
   "source": [
    "t.add_(1)  # adding 1 inplace to t \n",
    "print(t)\n",
    "print(n)  # value of n also changes"
   ]
  },
  {
   "cell_type": "markdown",
   "metadata": {},
   "source": [
    "**NumPy array to Tensor**"
   ]
  },
  {
   "cell_type": "code",
   "execution_count": 44,
   "metadata": {},
   "outputs": [],
   "source": [
    "n = np.ones(5)\n",
    "t = torch.from_numpy(n)"
   ]
  },
  {
   "cell_type": "markdown",
   "metadata": {},
   "source": [
    "***Changes in the NumPy array reflects in the tensor***"
   ]
  },
  {
   "cell_type": "code",
   "execution_count": 45,
   "metadata": {},
   "outputs": [
    {
     "name": "stdout",
     "output_type": "stream",
     "text": [
      "t: tensor([2., 2., 2., 2., 2.], dtype=torch.float64)\n",
      "n: [2. 2. 2. 2. 2.]\n"
     ]
    }
   ],
   "source": [
    "np.add(n, 1, out=n)\n",
    "print(f\"t: {t}\")\n",
    "print(f\"n: {n}\")"
   ]
  },
  {
   "cell_type": "code",
   "execution_count": null,
   "metadata": {},
   "outputs": [],
   "source": []
  }
 ],
 "metadata": {
  "kernelspec": {
   "display_name": "Python 3",
   "language": "python",
   "name": "python3"
  },
  "language_info": {
   "codemirror_mode": {
    "name": "ipython",
    "version": 3
   },
   "file_extension": ".py",
   "mimetype": "text/x-python",
   "name": "python",
   "nbconvert_exporter": "python",
   "pygments_lexer": "ipython3",
   "version": "3.8.3"
  }
 },
 "nbformat": 4,
 "nbformat_minor": 1
}
