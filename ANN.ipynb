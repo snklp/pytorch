{
  "nbformat": 4,
  "nbformat_minor": 0,
  "metadata": {
    "colab": {
      "name": "ANN.ipynb",
      "provenance": [],
      "collapsed_sections": [],
      "mount_file_id": "1X3FNvNe76R5iXznouulsOWbHrbLkHe7s",
      "authorship_tag": "ABX9TyPkoQudOBHTmodr7oO6B4C5",
      "include_colab_link": true
    },
    "kernelspec": {
      "name": "python3",
      "display_name": "Python 3"
    },
    "language_info": {
      "name": "python"
    }
  },
  "cells": [
    {
      "cell_type": "markdown",
      "metadata": {
        "id": "view-in-github",
        "colab_type": "text"
      },
      "source": [
        "<a href=\"https://colab.research.google.com/github/snklp/pytorch/blob/pt/ANN.ipynb\" target=\"_parent\"><img src=\"https://colab.research.google.com/assets/colab-badge.svg\" alt=\"Open In Colab\"/></a>"
      ]
    },
    {
      "cell_type": "code",
      "metadata": {
        "id": "_fEwgy863Acn"
      },
      "source": [
        "import torch\n",
        "import torch.nn as nn\n",
        "import torch.nn.functional as F\n",
        "import torchvision.datasets as datasets\n",
        "import torchvision.transforms as transforms\n",
        "from torch.utils.data import DataLoader\n",
        "import torch.optim as optim"
      ],
      "execution_count": null,
      "outputs": []
    },
    {
      "cell_type": "markdown",
      "metadata": {
        "id": "qJTlLD4yB4CZ"
      },
      "source": [
        "**Model**"
      ]
    },
    {
      "cell_type": "code",
      "metadata": {
        "id": "vrG3jZ6o3MKt"
      },
      "source": [
        "class ANN(nn.Module):\n",
        "  def __init__(self, ip_features, op_features):\n",
        "    super().__init__()\n",
        "    self.fc1 = nn.Linear(ip_features, 50)\n",
        "    self.fc2 = nn.Linear(50, op_features)\n",
        "    \n",
        "  def forward(self, x):\n",
        "    x = self.fc1(x)\n",
        "    x = F.relu(x)\n",
        "    x = self.fc2(x)\n",
        "    return x"
      ],
      "execution_count": null,
      "outputs": []
    },
    {
      "cell_type": "code",
      "metadata": {
        "id": "4SMQDHlS400y"
      },
      "source": [
        "device = torch.device('cuda' if torch.cuda.is_available() else 'cpu')"
      ],
      "execution_count": null,
      "outputs": []
    },
    {
      "cell_type": "markdown",
      "metadata": {
        "id": "Yr656ivhB94A"
      },
      "source": [
        "**Parameters & Hyper Parameters**"
      ]
    },
    {
      "cell_type": "code",
      "metadata": {
        "id": "PrzAtU4z5NaW"
      },
      "source": [
        "ip_features = 784\n",
        "op_features = 10\n",
        "learning_rate = 0.001\n",
        "batch_size = 50\n",
        "num_epochs = 1"
      ],
      "execution_count": null,
      "outputs": []
    },
    {
      "cell_type": "markdown",
      "metadata": {
        "id": "Af_4tuSHCJ-T"
      },
      "source": [
        "**Loading Data**"
      ]
    },
    {
      "cell_type": "code",
      "metadata": {
        "id": "hn7F4BVQ5nw2"
      },
      "source": [
        "train_dataset = datasets.MNIST(root='Data', train=True, transform=transforms.ToTensor(), download=True)\n",
        "test_dataset = datasets.MNIST(root='Data', train=False, transform=transforms.ToTensor(), download=True)\n",
        "\n",
        "train_loader = DataLoader(dataset=train_dataset, batch_size=batch_size, shuffle=True)\n",
        "test_loader = DataLoader(dataset=test_dataset, batch_size=batch_size, shuffle=True)"
      ],
      "execution_count": null,
      "outputs": []
    },
    {
      "cell_type": "markdown",
      "metadata": {
        "id": "16dyjtJ9CQi-"
      },
      "source": [
        "**Initializing Model**"
      ]
    },
    {
      "cell_type": "code",
      "metadata": {
        "id": "zTE5tIZ57yqC"
      },
      "source": [
        "model = ANN(ip_features, op_features).to(device)"
      ],
      "execution_count": null,
      "outputs": []
    },
    {
      "cell_type": "markdown",
      "metadata": {
        "id": "evdQ9oy9CZJZ"
      },
      "source": [
        "**Loss & Optimizer**"
      ]
    },
    {
      "cell_type": "code",
      "metadata": {
        "id": "Sk4ggI3C8cEv"
      },
      "source": [
        "loss_function = nn.CrossEntropyLoss()\n",
        "optimizer = optim.Adam(model.parameters(), lr=learning_rate)"
      ],
      "execution_count": null,
      "outputs": []
    },
    {
      "cell_type": "markdown",
      "metadata": {
        "id": "KJC0AOBkCjm3"
      },
      "source": [
        "**Training**"
      ]
    },
    {
      "cell_type": "code",
      "metadata": {
        "id": "Z41K3R1p9L3w"
      },
      "source": [
        "for epoch in range(num_epochs):\n",
        "  for data in train_loader:\n",
        "    X, y = data\n",
        "    X = X.to(device)\n",
        "    y = y.to(device)\n",
        "    #print(X.shape)\n",
        "    #break\n",
        "    X = X.view(50, -1)\n",
        "    y_ = model(X)\n",
        "    loss = loss_function(y_, y)\n",
        "\n",
        "    optimizer.zero_grad()\n",
        "    loss.backward()\n",
        "\n",
        "    optimizer.step()\n"
      ],
      "execution_count": null,
      "outputs": []
    },
    {
      "cell_type": "markdown",
      "metadata": {
        "id": "sYR7amxuCsIp"
      },
      "source": [
        "**Testing**"
      ]
    },
    {
      "cell_type": "code",
      "metadata": {
        "id": "DHcB_6h69omi"
      },
      "source": [
        "correct = 0\n",
        "total = 0\n",
        "\n",
        "with torch.no_grad():\n",
        "  for data in test_loader:\n",
        "    X, y = data\n",
        "    X = X.to(device)\n",
        "    X = X.view(50, -1)\n",
        "    y = y.to(device)\n",
        "    y_ = model(X)\n",
        "\n",
        "    for idx, op_class in enumerate(y_):\n",
        "      if torch.argmax(op_class) == y[idx]:correct += 1\n",
        "      total += 1"
      ],
      "execution_count": null,
      "outputs": []
    },
    {
      "cell_type": "markdown",
      "metadata": {
        "id": "itWsRevPCwHc"
      },
      "source": [
        "**Accuracy**"
      ]
    },
    {
      "cell_type": "code",
      "metadata": {
        "colab": {
          "base_uri": "https://localhost:8080/"
        },
        "id": "0NWYbj9nBtl9",
        "outputId": "c7bbad72-1dc0-4f43-819f-f5ede1478af3"
      },
      "source": [
        "correct/total"
      ],
      "execution_count": null,
      "outputs": [
        {
          "output_type": "execute_result",
          "data": {
            "text/plain": [
              "0.9382"
            ]
          },
          "metadata": {
            "tags": []
          },
          "execution_count": 28
        }
      ]
    }
  ]
}