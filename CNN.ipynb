{
  "nbformat": 4,
  "nbformat_minor": 0,
  "metadata": {
    "colab": {
      "name": "CNN.ipynb",
      "provenance": [],
      "collapsed_sections": [],
      "mount_file_id": "1XEp-1qPud_v23FhwW3bFU8ZaT_0Az3v2",
      "authorship_tag": "ABX9TyPBlK6hMFTs38ZWhGn5h4IB",
      "include_colab_link": true
    },
    "kernelspec": {
      "name": "python3",
      "display_name": "Python 3"
    },
    "language_info": {
      "name": "python"
    }
  },
  "cells": [
    {
      "cell_type": "markdown",
      "metadata": {
        "id": "view-in-github",
        "colab_type": "text"
      },
      "source": [
        "<a href=\"https://colab.research.google.com/github/snklp/pytorch/blob/pt/CNN.ipynb\" target=\"_parent\"><img src=\"https://colab.research.google.com/assets/colab-badge.svg\" alt=\"Open In Colab\"/></a>"
      ]
    },
    {
      "cell_type": "code",
      "metadata": {
        "id": "thdGs-ZSDAzQ"
      },
      "source": [
        "import torch\n",
        "import torch.nn as nn\n",
        "import torch.nn.functional as F\n",
        "import torchvision.datasets as datasets\n",
        "import torchvision.transforms as transforms\n",
        "from torch.utils.data import DataLoader\n",
        "import torch.optim as optim"
      ],
      "execution_count": 1,
      "outputs": []
    },
    {
      "cell_type": "markdown",
      "metadata": {
        "id": "iNC5_5TxVM7F"
      },
      "source": [
        "**Model**"
      ]
    },
    {
      "cell_type": "code",
      "metadata": {
        "id": "ijRNAia-DFyk"
      },
      "source": [
        "class CNN(nn.Module):\n",
        "  def __init__(self, ip_channels=1, op_features=10):\n",
        "    super().__init__()\n",
        "    self.conv1 = nn.Conv2d(ip_channels, 8, 3, (1,1), (1,1) )  # ip_channnels, op_channels, kernel_size, stride, padding\n",
        "    self.conv2 = nn.Conv2d(8, 16, 3, (1,1), (1,1))\n",
        "    self.maxpool = nn.MaxPool2d((2,2), (2,2))   # kernel_size, stride\n",
        "    self.fc1 = nn.Linear(16*7*7, op_features)\n",
        "    \n",
        "  def forward(self, x):\n",
        "    x = self.conv1(x)\n",
        "    x = F.relu(x)\n",
        "    x = self.maxpool(x)\n",
        "    x = self.conv2(x)\n",
        "    x = F.relu(x)\n",
        "    x = self.maxpool(x)\n",
        "    x = x.view(x.shape[0], -1)\n",
        "    x = self.fc1(x)\n",
        "    return x\n",
        "\n"
      ],
      "execution_count": null,
      "outputs": []
    },
    {
      "cell_type": "code",
      "metadata": {
        "id": "WgPTPJAaDJfM"
      },
      "source": [
        "device = torch.device('cuda' if torch.cuda.is_available() else 'cpu')"
      ],
      "execution_count": null,
      "outputs": []
    },
    {
      "cell_type": "markdown",
      "metadata": {
        "id": "r-hHu9ODH81V"
      },
      "source": [
        "**Hyperparameters**"
      ]
    },
    {
      "cell_type": "code",
      "metadata": {
        "id": "Z68kk1CDF3M4"
      },
      "source": [
        "ip_channels = 1\n",
        "op_features = 10\n",
        "learning_rate = 0.001\n",
        "batch_size = 64\n",
        "num_epochs = 1\n",
        "\n",
        "# in case we wanna load the checkpoints\n",
        "load_model = False"
      ],
      "execution_count": null,
      "outputs": []
    },
    {
      "cell_type": "markdown",
      "metadata": {
        "id": "d1QUVmYXHR2W"
      },
      "source": [
        "**Loading Data**"
      ]
    },
    {
      "cell_type": "code",
      "metadata": {
        "id": "kLUCtdd2GMy9"
      },
      "source": [
        "train_dataset = datasets.MNIST(root='/content/drive/MyDrive/Datasets', train=True, transform=transforms.ToTensor(), download=True)\n",
        "test_dataset = datasets.MNIST(root='/content/drive/MyDrive/Datasets', train=False, transform=transforms.ToTensor(), download=True)\n",
        "\n",
        "train_loader = DataLoader(dataset=train_dataset, batch_size=batch_size, shuffle=True)\n",
        "test_loader = DataLoader(dataset=test_dataset, batch_size=batch_size, shuffle=True)"
      ],
      "execution_count": null,
      "outputs": []
    },
    {
      "cell_type": "code",
      "metadata": {
        "id": "TRUceRVHGUAi"
      },
      "source": [
        "model = CNN().to(device)"
      ],
      "execution_count": null,
      "outputs": []
    },
    {
      "cell_type": "code",
      "metadata": {
        "id": "L6pdtHFzHig2"
      },
      "source": [
        "loss_function = nn.CrossEntropyLoss()\n",
        "optimizer = optim.Adam(model.parameters(), lr=learning_rate)\n",
        "\n",
        "if load_model:\n",
        "  checkpoint = torch.load('mycheckpoint.pth.tar')      # importing checkpoints from the file\n",
        "  model.load_state_dict(checkpoint['state_dict'])      # loading model checkpoint\n",
        "  optimizer.load_state_dict(checkpoint['optimizer'])   # loading optimizer checkpoints"
      ],
      "execution_count": null,
      "outputs": []
    },
    {
      "cell_type": "markdown",
      "metadata": {
        "id": "hBHOr21pOGrt"
      },
      "source": [
        "**Training**"
      ]
    },
    {
      "cell_type": "code",
      "metadata": {
        "id": "8VppXOVHH3L5"
      },
      "source": [
        "for epoch in range(num_epochs):\n",
        "  checkpoint = {'state_dict':model.state_dict(), 'optimizer':optimizer.state_dict()}  # stores checkpoint in the dic\n",
        "  torch.save(checkpoint, 'mycheckpoint.pth.tar')                                      # saves the stored checkpoints in dic to the file \n",
        "  \n",
        "  for data in train_loader:\n",
        "    X, y = data\n",
        "    X = X.to(device)\n",
        "    y = y.to(device)\n",
        "    #print(X.shape)\n",
        "    #break\n",
        "    y_ = model(X)\n",
        "    loss = loss_function(y_, y)\n",
        "\n",
        "    optimizer.zero_grad()\n",
        "    loss.backward()\n",
        "\n",
        "    optimizer.step()\n"
      ],
      "execution_count": null,
      "outputs": []
    },
    {
      "cell_type": "markdown",
      "metadata": {
        "id": "G0yDLIpQVWqf"
      },
      "source": [
        "**Testing**"
      ]
    },
    {
      "cell_type": "code",
      "metadata": {
        "id": "F95-Ff6CH4nv"
      },
      "source": [
        "correct = 0\n",
        "total = 0\n",
        "\n",
        "with torch.no_grad():\n",
        "  for data in test_loader:\n",
        "    X, y = data\n",
        "    X = X.to(device)\n",
        "    y = y.to(device)\n",
        "    y_ = model(X)\n",
        "\n",
        "    for idx, op_class in enumerate(y_):\n",
        "      if torch.argmax(op_class) == y[idx]:correct += 1\n",
        "      total += 1"
      ],
      "execution_count": null,
      "outputs": []
    },
    {
      "cell_type": "markdown",
      "metadata": {
        "id": "cpDvrphUVZ7O"
      },
      "source": [
        "**Accuracy**"
      ]
    },
    {
      "cell_type": "code",
      "metadata": {
        "colab": {
          "base_uri": "https://localhost:8080/"
        },
        "id": "WfoznDIyH9y9",
        "outputId": "41067714-ce0e-40d6-a1a7-209a345a4196"
      },
      "source": [
        "correct/total"
      ],
      "execution_count": null,
      "outputs": [
        {
          "output_type": "execute_result",
          "data": {
            "text/plain": [
              "0.9664"
            ]
          },
          "metadata": {
            "tags": []
          },
          "execution_count": 66
        }
      ]
    },
    {
      "cell_type": "code",
      "metadata": {
        "id": "0ZokpzjoH-0P"
      },
      "source": [
        ""
      ],
      "execution_count": null,
      "outputs": []
    }
  ]
}