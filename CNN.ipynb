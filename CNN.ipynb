{
  "nbformat": 4,
  "nbformat_minor": 0,
  "metadata": {
    "colab": {
      "name": "CNN.ipynb",
      "provenance": [],
      "mount_file_id": "1TiOGMj9IftaPa4RSeYWjG0UkNH40mFym",
      "authorship_tag": "ABX9TyMd7hDhOjwZltLOiMay8IVl",
      "include_colab_link": true
    },
    "kernelspec": {
      "name": "python3",
      "display_name": "Python 3"
    },
    "language_info": {
      "name": "python"
    },
    "accelerator": "GPU"
  },
  "cells": [
    {
      "cell_type": "markdown",
      "metadata": {
        "id": "view-in-github",
        "colab_type": "text"
      },
      "source": [
        "<a href=\"https://colab.research.google.com/github/snklp/pytorch/blob/pt/CNN.ipynb\" target=\"_parent\"><img src=\"https://colab.research.google.com/assets/colab-badge.svg\" alt=\"Open In Colab\"/></a>"
      ]
    },
    {
      "cell_type": "code",
      "source": [
        "import torch\n",
        "import torch.nn as nn\n",
        "import torch.nn.functional as F\n",
        "from torchvision.datasets import MNIST\n",
        "import torchvision.transforms as transform\n",
        "from torch.utils.data import DataLoader\n",
        "import torch.optim as optim\n",
        "import tqdm as tqdm"
      ],
      "metadata": {
        "id": "hGUYmNrjfpl8"
      },
      "execution_count": 14,
      "outputs": []
    },
    {
      "cell_type": "markdown",
      "source": [
        ""
      ],
      "metadata": {
        "id": "2U7FnoucACWE"
      }
    },
    {
      "cell_type": "code",
      "source": [
        "# ARCHITECTURE (2-layered CNN w/ 50 units in each hidden_layer)\n",
        "class CNN(nn.Module):\n",
        "    def __init__(self, in_channels, out_classes):\n",
        "        super().__init__()\n",
        "        self.conv1 = nn.Conv2d(in_channels, 8, kernel_size=(3,3), stride=(1,1), padding=(1,1))    # SAME CONVOLUTION (28X28 -> 28X28)\n",
        "        self.pool1 = nn.MaxPool2d(kernel_size=(2,2), stride=(2,2))                                 # 28X28 -> 14X14\n",
        "        self.conv2 = nn.Conv2d(8, 16, kernel_size=(3,3), stride=(1,1), padding=(1,1))             # SAME CONVOLUTION (14X14 -> 14X14)\n",
        "        self.pool2 = nn.MaxPool2d(kernel_size=(2,2), stride=(2,2))                                 # 14X14 -> 7X7\n",
        "        self.lin = nn.Linear(16*7*7, out_classes)                                                                 \n",
        "\n",
        "    def forward(self, x):\n",
        "        x = self.conv1(x)\n",
        "        x = F.relu(x)\n",
        "        x = self.pool1(x)\n",
        "        x = self.conv2(x)\n",
        "        x = F.relu(x)\n",
        "        x = self.pool2(x)\n",
        "        x = F.relu(x)\n",
        "        x = x.reshape(x.shape[0], -1)  # [batch_size, 1*28*28]\n",
        "        x = self.lin(x)\n",
        "        return x\n",
        "\n",
        "device = torch.device('cuda' if torch.cuda.is_available() else 'cpu')\n",
        "\n",
        "# # CHECKING O/P SHAPE OF THE MODEL\n",
        "# batch_size = 64\n",
        "# in_size = 128\n",
        "# out_size = 2\n",
        "# model = VNN(in_size, out_size)  # init model\n",
        "# x = torch.randn(batch_size, in_size)\n",
        "# print(model(x).shape)  # o/p - [64,2]\n",
        "\n",
        "\n",
        "# HYPERPARAMETERS\n",
        "batch_size = 64\n",
        "in_channels = 1\n",
        "out_classes = 10\n",
        "lr = 0.001\n",
        "num_epochs = 3\n",
        "\n",
        "# LOADING DATA\n",
        "train_data = MNIST(root='', train=True, transform=transform.ToTensor(), download=True)\n",
        "train_loader = DataLoader(dataset=train_data, batch_size=batch_size, shuffle=True)\n",
        "test_data = MNIST(root='', train=False, transform=transform.ToTensor(), download=True)\n",
        "test_loader = DataLoader(dataset=test_data, batch_size=batch_size, shuffle=True)\n",
        "\n",
        "# INIT NETWORK\n",
        "model = CNN(in_channels, out_classes).to(device)\n",
        "\n",
        "# LOSS & OPTIMIZER\n",
        "criterion = nn.CrossEntropyLoss()\n",
        "optimizer = optim.Adam(model.parameters(), lr=lr)\n",
        "\n",
        "# TRAINING NETWORK\n",
        "for epoch in range(num_epochs):\n",
        "    for batch_idx, (x, y) in enumerate(train_loader):\n",
        "        x = x.to(device)\n",
        "        y = y.to(device)\n",
        "        # print(x.shape)  # [64, 1, 28, 28]\n",
        "        # print(y.shape)   # [64]\n",
        "        # break\n",
        "\n",
        "        \n",
        "        # predicting values\n",
        "        y_pred = model(x)\n",
        "\n",
        "        # predicting loss\n",
        "        loss = criterion(y_pred, y)\n",
        "\n",
        "        #optimizing\n",
        "        optimizer.zero_grad()\n",
        "        loss.backward()\n",
        "        optimizer.step()\n",
        "\n",
        "# CHECKING ACCURACY\n",
        "def accuracy(data_loader, model):\n",
        "    num_correct = 0\n",
        "    num_samples = 0\n",
        "    model.eval()\n",
        "\n",
        "    with torch.no_grad():\n",
        "        for x, y in data_loader:\n",
        "            x = x.to(device)\n",
        "            y = y.to(device)\n",
        "            y_pred = model(x)\n",
        "            num_correct += (y == y_pred.argmax(dim=1)).sum()\n",
        "            num_samples += x.shape[0]\n",
        "\n",
        "        print('ACCURACY: ', num_correct/num_samples)\n",
        "        print(f'{num_correct} Corrects out of {num_samples} Samples')\n"
      ],
      "metadata": {
        "id": "PMH_h0QmiQGL"
      },
      "execution_count": 15,
      "outputs": []
    },
    {
      "cell_type": "code",
      "source": [
        "accuracy(train_loader, model)"
      ],
      "metadata": {
        "colab": {
          "base_uri": "https://localhost:8080/"
        },
        "id": "OF1oTmz4cxwa",
        "outputId": "3db38624-15c2-4089-8ae7-fef4c54cb84d"
      },
      "execution_count": 16,
      "outputs": [
        {
          "output_type": "stream",
          "name": "stdout",
          "text": [
            "ACCURACY:  tensor(0.9811, device='cuda:0')\n",
            "58865 Corrects out of 60000 Samples\n"
          ]
        }
      ]
    },
    {
      "cell_type": "code",
      "source": [
        "# x = torch.randn(3,5)\n",
        "# print(x)\n",
        "# print(x.argmax(0))\n",
        "# print(x.max(0))\n",
        "# print(x.argmax(1))\n",
        "# print(x.max(1))"
      ],
      "metadata": {
        "id": "4nMN2eNQWJ-6"
      },
      "execution_count": 17,
      "outputs": []
    }
  ]
}