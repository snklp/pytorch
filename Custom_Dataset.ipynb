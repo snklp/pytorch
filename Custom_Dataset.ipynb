{
  "nbformat": 4,
  "nbformat_minor": 0,
  "metadata": {
    "colab": {
      "name": "Custom Dataset.ipynb",
      "provenance": [],
      "collapsed_sections": [],
      "mount_file_id": "1B01KcJpvR4MWfakqgcZLxuD11kjbuhSN",
      "authorship_tag": "ABX9TyNXyqRRrSTQoatn8uMhGoSV",
      "include_colab_link": true
    },
    "kernelspec": {
      "name": "python3",
      "display_name": "Python 3"
    },
    "language_info": {
      "name": "python"
    }
  },
  "cells": [
    {
      "cell_type": "markdown",
      "metadata": {
        "id": "view-in-github",
        "colab_type": "text"
      },
      "source": [
        "<a href=\"https://colab.research.google.com/github/snklp/pytorch/blob/pt/Custom_Dataset.ipynb\" target=\"_parent\"><img src=\"https://colab.research.google.com/assets/colab-badge.svg\" alt=\"Open In Colab\"/></a>"
      ]
    },
    {
      "cell_type": "code",
      "metadata": {
        "id": "ZCp-uqQlzmVU"
      },
      "source": [
        "import os\n",
        "import pandas as pd\n",
        "import torch\n",
        "from torch.utils.data import Dataset, DataLoader\n",
        "from skimage import io\n",
        "from torchvision.transforms import transforms\n"
      ],
      "execution_count": 42,
      "outputs": []
    },
    {
      "cell_type": "markdown",
      "metadata": {
        "id": "PaqDcLFtIUVJ"
      },
      "source": [
        "**Creating csv file (Images, labels)**"
      ]
    },
    {
      "cell_type": "code",
      "metadata": {
        "id": "nM9mbEUay4JS"
      },
      "source": [
        "dic = {'Cat':0, 'Dog':1}\n",
        "root = '/content/drive/MyDrive/kagglecatsanddogs_3367a/PetImages'   # (root)\n",
        "data = []\n",
        "\n",
        "for label in os.listdir(root):\n",
        "  for image in os.listdir(os.path.join(root, label)):\n",
        "    data.append([os.path.join(label, image), dic[label]])\n",
        "    \n",
        "df = pd.DataFrame(data, columns=['Images', 'labels'])\n",
        "df.to_csv('cats_dogs.csv', index=False)"
      ],
      "execution_count": 35,
      "outputs": []
    },
    {
      "cell_type": "code",
      "metadata": {
        "colab": {
          "base_uri": "https://localhost:8080/",
          "height": 202
        },
        "id": "LZC2-D5JBWx1",
        "outputId": "e2596c2b-66d0-492d-cafd-6e1394ea23c5"
      },
      "source": [
        "pd.read_csv('cat_dogs.csv').tail()"
      ],
      "execution_count": 36,
      "outputs": [
        {
          "output_type": "execute_result",
          "data": {
            "text/html": [
              "<div>\n",
              "<style scoped>\n",
              "    .dataframe tbody tr th:only-of-type {\n",
              "        vertical-align: middle;\n",
              "    }\n",
              "\n",
              "    .dataframe tbody tr th {\n",
              "        vertical-align: top;\n",
              "    }\n",
              "\n",
              "    .dataframe thead th {\n",
              "        text-align: right;\n",
              "    }\n",
              "</style>\n",
              "<table border=\"1\" class=\"dataframe\">\n",
              "  <thead>\n",
              "    <tr style=\"text-align: right;\">\n",
              "      <th></th>\n",
              "      <th>Images</th>\n",
              "      <th>labels</th>\n",
              "    </tr>\n",
              "  </thead>\n",
              "  <tbody>\n",
              "    <tr>\n",
              "      <th>24997</th>\n",
              "      <td>Dog/10441.jpg</td>\n",
              "      <td>1</td>\n",
              "    </tr>\n",
              "    <tr>\n",
              "      <th>24998</th>\n",
              "      <td>Dog/10448.jpg</td>\n",
              "      <td>1</td>\n",
              "    </tr>\n",
              "    <tr>\n",
              "      <th>24999</th>\n",
              "      <td>Dog/10451.jpg</td>\n",
              "      <td>1</td>\n",
              "    </tr>\n",
              "    <tr>\n",
              "      <th>25000</th>\n",
              "      <td>Dog/10426.jpg</td>\n",
              "      <td>1</td>\n",
              "    </tr>\n",
              "    <tr>\n",
              "      <th>25001</th>\n",
              "      <td>Dog/10446.jpg</td>\n",
              "      <td>1</td>\n",
              "    </tr>\n",
              "  </tbody>\n",
              "</table>\n",
              "</div>"
            ],
            "text/plain": [
              "              Images  labels\n",
              "24997  Dog/10441.jpg       1\n",
              "24998  Dog/10448.jpg       1\n",
              "24999  Dog/10451.jpg       1\n",
              "25000  Dog/10426.jpg       1\n",
              "25001  Dog/10446.jpg       1"
            ]
          },
          "metadata": {
            "tags": []
          },
          "execution_count": 36
        }
      ]
    },
    {
      "cell_type": "markdown",
      "metadata": {
        "id": "pgE35G6tIvnW"
      },
      "source": [
        "**Creating class to load Dataset**\n"
      ]
    },
    {
      "cell_type": "code",
      "metadata": {
        "id": "ICHZGwpx5Doa"
      },
      "source": [
        "class CatsAndDogsDataset(Dataset):\n",
        "  def __init__(self, csv_file, root, transform=None):\n",
        "    self.df = pd.read_csv('cats_dogs.csv')\n",
        "    self.root = root\n",
        "    self.transform = transform\n",
        "\n",
        "  def __len__(self):\n",
        "    return len(self.df)\n",
        "\n",
        "  def __getitem__(self, index):\n",
        "    img_path = os.path.join(self.root, self.df.iloc[index, 0])\n",
        "    img = io.imread(img_path)\n",
        "    y_label = torch.tensor(int(self.df[index, 1]))\n",
        "\n",
        "    if self.transform:img = self.transform(img)\n",
        "\n",
        "    return (img, y_label)"
      ],
      "execution_count": 39,
      "outputs": []
    },
    {
      "cell_type": "markdown",
      "metadata": {
        "id": "Nt5IyRo9I3iQ"
      },
      "source": [
        "**Loading Dataset**"
      ]
    },
    {
      "cell_type": "code",
      "metadata": {
        "id": "WAo5S2k-Cjo5"
      },
      "source": [
        "dataset = CatsAndDogsDataset(csv_file='cats_dogs.csv', root='/content/drive/MyDrive/kagglecatsanddogs_3367a/PetImages',\n",
        "                             transform=transforms.ToTensor())\n",
        "\n",
        "train_set, test_set = torch.utils.data.random_split(dataset, [20001,5001])\n",
        "\n",
        "train_loader = DataLoader(dataset=train_set, batch_size=64, shuffle=True)\n",
        "test_loader = DataLoader(dataset=test_set, batch_size=64, shuffle=True)"
      ],
      "execution_count": 43,
      "outputs": []
    }
  ]
}