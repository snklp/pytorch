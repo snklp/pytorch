{
  "nbformat": 4,
  "nbformat_minor": 0,
  "metadata": {
    "colab": {
      "name": "Vanilla_NN.ipynb",
      "provenance": [],
      "mount_file_id": "1TiOGMj9IftaPa4RSeYWjG0UkNH40mFym",
      "authorship_tag": "ABX9TyMijTczHKbgGNmJFEFRymyg",
      "include_colab_link": true
    },
    "kernelspec": {
      "name": "python3",
      "display_name": "Python 3"
    },
    "language_info": {
      "name": "python"
    }
  },
  "cells": [
    {
      "cell_type": "markdown",
      "metadata": {
        "id": "view-in-github",
        "colab_type": "text"
      },
      "source": [
        "<a href=\"https://colab.research.google.com/github/snklp/pytorch/blob/pt/Vanilla_NN.ipynb\" target=\"_parent\"><img src=\"https://colab.research.google.com/assets/colab-badge.svg\" alt=\"Open In Colab\"/></a>"
      ]
    },
    {
      "cell_type": "code",
      "source": [
        "import torch\n",
        "import torch.nn as nn\n",
        "import torch.nn.functional as F\n",
        "from torchvision.datasets import MNIST\n",
        "import torchvision.transforms as transform\n",
        "from torch.utils.data import DataLoader\n",
        "import torch.optim as optim"
      ],
      "metadata": {
        "id": "hGUYmNrjfpl8"
      },
      "execution_count": 10,
      "outputs": []
    },
    {
      "cell_type": "markdown",
      "source": [
        ""
      ],
      "metadata": {
        "id": "2U7FnoucACWE"
      }
    },
    {
      "cell_type": "code",
      "source": [
        "# ARCHITECTURE (2-layered Vanilla NN w/ 50 units in each hidden_layer)\n",
        "class VNN(nn.Module):\n",
        "    def __init__(self, in_size, out_size):\n",
        "        super().__init__()\n",
        "        self.lin1 = nn.Linear(in_size, 50)\n",
        "        self.lin2 = nn.Linear(50, out_size)\n",
        "\n",
        "    def forward(self, x):\n",
        "        x = self.lin1(x)\n",
        "        x = F.relu(x)\n",
        "        x = self.lin2(x)\n",
        "        return x\n",
        "\n",
        "device = torch.device('cuda' if torch.cuda.is_available() else 'cpu')\n",
        "\n",
        "# # CHECKING O/P SHAPE OF THE MODEL\n",
        "# batch_size = 64\n",
        "# in_size = 128\n",
        "# out_size = 2\n",
        "# model = VNN(in_size, out_size)  # init model\n",
        "# x = torch.randn(batch_size, in_size)\n",
        "# print(model(x).shape)  # o/p - [64,2]\n",
        "\n",
        "\n",
        "# HYPERPARAMETERS\n",
        "batch_size = 64\n",
        "in_size = 784\n",
        "out_size = 10\n",
        "lr = 0.001\n",
        "num_epochs = 1\n",
        "\n",
        "# LOADING DATA\n",
        "train_data = MNIST(root='', train=True, transform=transform.ToTensor(), download=True)\n",
        "train_loader = DataLoader(dataset=train_data, batch_size=batch_size, shuffle=True)\n",
        "test_data = MNIST(root='', train=False, transform=transform.ToTensor(), download=True)\n",
        "test_loader = DataLoader(dataset=test_data, batch_size=batch_size, shuffle=True)\n",
        "\n",
        "# INIT NETWORK\n",
        "model = VNN(in_size, out_size).to(device)\n",
        "\n",
        "# LOSS & OPTIMIZER\n",
        "criterion = nn.CrossEntropyLoss()\n",
        "optimizer = optim.Adam(model.parameters(), lr=lr)\n",
        "\n",
        "# TRAINING NETWORK\n",
        "for epoch in range(num_epochs):\n",
        "    for batch_idx, (x, y) in enumerate(train_loader):\n",
        "        x = x.to(device)\n",
        "        y = y.to(device)\n",
        "        # print(x.shape)  # [64, 1, 28, 28]\n",
        "        # print(y.shape)   # [64]\n",
        "        # break\n",
        "\n",
        "        #shape correction\n",
        "        x = x.reshape(x.shape[0], -1)\n",
        "        \n",
        "        # predicting values\n",
        "        x_pred = model(x)\n",
        "\n",
        "        # predicting loss\n",
        "        loss = criterion(x_pred, y)\n",
        "\n",
        "        #optimizing\n",
        "        optimizer.zero_grad()\n",
        "        loss.backward()\n",
        "        optimizer.step()\n",
        "\n",
        "# CHECKING ACCURACY\n",
        "def accuracy(data_loader, model):\n",
        "    num_correct = 0\n",
        "    num_samples = 0\n",
        "    model.eval()\n",
        "\n",
        "    with torch.no_grad():\n",
        "        for x, y in data_loader:\n",
        "            x = x.to(device)\n",
        "            y = y.to(device)\n",
        "            x = x.reshape(x.shape[0], -1)\n",
        "            x_pred = model(x)\n",
        "            num_correct += (x == x_pred.argmax(dim=1)).sum()\n",
        "            num_samples += x.shape[0]\n",
        "\n",
        "        print('ACCURACY: ', num_correct/num_samples)\n",
        "        print(f'{num_correct} Corrects out of {num_samples} Samples')\n",
        "        "
      ],
      "metadata": {
        "id": "PMH_h0QmiQGL",
        "colab": {
          "base_uri": "https://localhost:8080/"
        },
        "outputId": "8d4f11df-5251-49ae-d14b-314f0ef55757"
      },
      "execution_count": 16,
      "outputs": [
        {
          "output_type": "stream",
          "name": "stdout",
          "text": [
            "torch.Size([64])\n"
          ]
        }
      ]
    },
    {
      "cell_type": "code",
      "source": [
        "# x = torch.randn(3,5)\n",
        "# print(x)\n",
        "# print(x.argmax(0))\n",
        "# print(x.max(0))\n",
        "# print(x.argmax(1))\n",
        "# print(x.max(1))"
      ],
      "metadata": {
        "colab": {
          "base_uri": "https://localhost:8080/"
        },
        "id": "4nMN2eNQWJ-6",
        "outputId": "e56b878f-bfad-416b-9b97-5da778735512"
      },
      "execution_count": 35,
      "outputs": [
        {
          "output_type": "stream",
          "name": "stdout",
          "text": [
            "2\n",
            "2\n"
          ]
        }
      ]
    },
    {
      "cell_type": "code",
      "source": [
        ""
      ],
      "metadata": {
        "id": "e-A0bWft_Keh"
      },
      "execution_count": null,
      "outputs": []
    }
  ]
}