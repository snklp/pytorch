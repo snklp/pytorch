{
  "nbformat": 4,
  "nbformat_minor": 0,
  "metadata": {
    "colab": {
      "name": "lin_reg.ipynb",
      "provenance": [],
      "authorship_tag": "ABX9TyN4W7PvQhr7gN4XMaQlMoaL",
      "include_colab_link": true
    },
    "kernelspec": {
      "name": "python3",
      "display_name": "Python 3"
    },
    "language_info": {
      "name": "python"
    }
  },
  "cells": [
    {
      "cell_type": "markdown",
      "metadata": {
        "id": "view-in-github",
        "colab_type": "text"
      },
      "source": [
        "<a href=\"https://colab.research.google.com/github/snklp/pytorch/blob/pt/lin_reg.ipynb\" target=\"_parent\"><img src=\"https://colab.research.google.com/assets/colab-badge.svg\" alt=\"Open In Colab\"/></a>"
      ]
    },
    {
      "cell_type": "code",
      "metadata": {
        "id": "EcTPRQfqAoiQ"
      },
      "source": [
        "from sklearn import datasets\n",
        "import torch\n",
        "import torch.nn as nn\n",
        "import matplotlib.pyplot as plt"
      ],
      "execution_count": 111,
      "outputs": []
    },
    {
      "cell_type": "code",
      "metadata": {
        "id": "5AO3TVLzC9lm"
      },
      "source": [
        "X, y = datasets.make_regression(n_samples=50, n_features=1, noise=20, random_state=0)"
      ],
      "execution_count": 96,
      "outputs": []
    },
    {
      "cell_type": "code",
      "metadata": {
        "colab": {
          "base_uri": "https://localhost:8080/"
        },
        "id": "1Zh1C8FKDZJZ",
        "outputId": "2146df8f-c82e-46dc-e230-ed6eded1413a"
      },
      "source": [
        "type(X)"
      ],
      "execution_count": 97,
      "outputs": [
        {
          "output_type": "execute_result",
          "data": {
            "text/plain": [
              "numpy.ndarray"
            ]
          },
          "metadata": {
            "tags": []
          },
          "execution_count": 97
        }
      ]
    },
    {
      "cell_type": "code",
      "metadata": {
        "colab": {
          "base_uri": "https://localhost:8080/"
        },
        "id": "om-jixaFDcEP",
        "outputId": "6fb86846-6d6d-4335-9a99-c56d7a5bb766"
      },
      "source": [
        "X.shape"
      ],
      "execution_count": 98,
      "outputs": [
        {
          "output_type": "execute_result",
          "data": {
            "text/plain": [
              "(50, 1)"
            ]
          },
          "metadata": {
            "tags": []
          },
          "execution_count": 98
        }
      ]
    },
    {
      "cell_type": "code",
      "metadata": {
        "id": "kUNBbppIDek9"
      },
      "source": [
        "X = torch.from_numpy(X)\n",
        "X = X.float()\n",
        "y = torch.from_numpy(y)\n",
        "y = y.float()"
      ],
      "execution_count": 99,
      "outputs": []
    },
    {
      "cell_type": "code",
      "metadata": {
        "colab": {
          "base_uri": "https://localhost:8080/"
        },
        "id": "3SxXBeNzO75f",
        "outputId": "7cc46828-1a00-4840-c084-a9cc34793828"
      },
      "source": [
        "X.shape"
      ],
      "execution_count": 100,
      "outputs": [
        {
          "output_type": "execute_result",
          "data": {
            "text/plain": [
              "torch.Size([50, 1])"
            ]
          },
          "metadata": {
            "tags": []
          },
          "execution_count": 100
        }
      ]
    },
    {
      "cell_type": "code",
      "metadata": {
        "colab": {
          "base_uri": "https://localhost:8080/"
        },
        "id": "LQZ2mRCFL-NV",
        "outputId": "1d7db2c0-9d2b-4e3b-9e3e-7a4d19ee6f8a"
      },
      "source": [
        "y.shape"
      ],
      "execution_count": 101,
      "outputs": [
        {
          "output_type": "execute_result",
          "data": {
            "text/plain": [
              "torch.Size([50])"
            ]
          },
          "metadata": {
            "tags": []
          },
          "execution_count": 101
        }
      ]
    },
    {
      "cell_type": "code",
      "metadata": {
        "id": "k-Pk6rkSL_Ig"
      },
      "source": [
        "y = y.view(y.shape[0], 1)"
      ],
      "execution_count": 102,
      "outputs": []
    },
    {
      "cell_type": "code",
      "metadata": {
        "colab": {
          "base_uri": "https://localhost:8080/"
        },
        "id": "c7DmN1VONtoQ",
        "outputId": "2311ebda-e1f1-422a-be9f-a2de754f4b64"
      },
      "source": [
        "y.shape"
      ],
      "execution_count": 103,
      "outputs": [
        {
          "output_type": "execute_result",
          "data": {
            "text/plain": [
              "torch.Size([50, 1])"
            ]
          },
          "metadata": {
            "tags": []
          },
          "execution_count": 103
        }
      ]
    },
    {
      "cell_type": "code",
      "metadata": {
        "id": "xKO_vYKOOfup"
      },
      "source": [
        "ip_size = X.shape[1]  # 1\n",
        "op_size = y.shape[1]  # 1"
      ],
      "execution_count": 104,
      "outputs": []
    },
    {
      "cell_type": "markdown",
      "metadata": {
        "id": "d1mhhN5cREng"
      },
      "source": [
        "**Model**"
      ]
    },
    {
      "cell_type": "code",
      "metadata": {
        "id": "U2Rm2ZQSQanH"
      },
      "source": [
        "model = nn.Linear(ip_size, op_size)"
      ],
      "execution_count": 105,
      "outputs": []
    },
    {
      "cell_type": "markdown",
      "metadata": {
        "id": "QMGNHXlIRIit"
      },
      "source": [
        "**Loss & optimizer**"
      ]
    },
    {
      "cell_type": "code",
      "metadata": {
        "id": "3k--ioVZRQxu"
      },
      "source": [
        "loss_function = nn.MSELoss()\n",
        "optimizer = torch.optim.SGD(model.parameters(), lr=0.01)"
      ],
      "execution_count": 106,
      "outputs": []
    },
    {
      "cell_type": "markdown",
      "metadata": {
        "id": "x_ohg3NlRW3r"
      },
      "source": [
        "**Training**"
      ]
    },
    {
      "cell_type": "code",
      "metadata": {
        "colab": {
          "base_uri": "https://localhost:8080/"
        },
        "id": "kn9b2f52RZ1B",
        "outputId": "e8a6dcdb-335d-41b2-ae25-0662f8f46aec"
      },
      "source": [
        "num_epochs = 100\n",
        "\n",
        "for epoch in range(num_epochs):\n",
        "  y_ = model(X)\n",
        "  loss = loss_function(y_, y)\n",
        "  loss.backward()\n",
        "  optimizer.step()\n",
        "  optimizer.zero_grad()\n",
        "  \n",
        "  if (epoch+1) % 10 == 0:print(f'Epoch: {epoch+1}, loss = {loss}')\n"
      ],
      "execution_count": 107,
      "outputs": [
        {
          "output_type": "stream",
          "text": [
            "Epoch: 10, loss = 385.1143493652344\n",
            "Epoch: 20, loss = 331.3594665527344\n",
            "Epoch: 30, loss = 300.0921630859375\n",
            "Epoch: 40, loss = 281.89532470703125\n",
            "Epoch: 50, loss = 271.2984313964844\n",
            "Epoch: 60, loss = 265.122802734375\n",
            "Epoch: 70, loss = 261.520751953125\n",
            "Epoch: 80, loss = 259.4176330566406\n",
            "Epoch: 90, loss = 258.188232421875\n",
            "Epoch: 100, loss = 257.4686584472656\n"
          ],
          "name": "stdout"
        }
      ]
    },
    {
      "cell_type": "markdown",
      "metadata": {
        "id": "fH1ZHOufaQGP"
      },
      "source": [
        "**Plotting**"
      ]
    },
    {
      "cell_type": "code",
      "metadata": {
        "colab": {
          "base_uri": "https://localhost:8080/"
        },
        "id": "NWo-OfGraNsJ",
        "outputId": "08696559-c614-42d0-9812-f60634def0ca"
      },
      "source": [
        "y_"
      ],
      "execution_count": 108,
      "outputs": [
        {
          "output_type": "execute_result",
          "data": {
            "text/plain": [
              "tensor([[ -6.0310],\n",
              "        [ 19.9183],\n",
              "        [ -0.4372],\n",
              "        [  8.3125],\n",
              "        [  1.3389],\n",
              "        [ 24.0455],\n",
              "        [  7.9449],\n",
              "        [-15.4482],\n",
              "        [-12.2849],\n",
              "        [ 12.9602],\n",
              "        [ 14.2233],\n",
              "        [  1.1403],\n",
              "        [  5.1198],\n",
              "        [ -2.2246],\n",
              "        [ 20.3460],\n",
              "        [ -4.7941],\n",
              "        [-12.6645],\n",
              "        [  2.2668],\n",
              "        [-24.8052],\n",
              "        [ 22.9017],\n",
              "        [-10.4370],\n",
              "        [ -7.3923],\n",
              "        [  3.9131],\n",
              "        [ -1.4336],\n",
              "        [ 11.8176],\n",
              "        [  4.9993],\n",
              "        [  1.0565],\n",
              "        [ 16.6948],\n",
              "        [ -0.8728],\n",
              "        [ 28.1712],\n",
              "        [ 11.9994],\n",
              "        [  5.1353],\n",
              "        [-14.4274],\n",
              "        [ 24.9652],\n",
              "        [  7.8295],\n",
              "        [ 19.6451],\n",
              "        [ 19.4784],\n",
              "        [  0.0668],\n",
              "        [  6.8671],\n",
              "        [  7.0949],\n",
              "        [ 28.4902],\n",
              "        [  1.7349],\n",
              "        [  4.7521],\n",
              "        [  7.5865],\n",
              "        [ 10.6305],\n",
              "        [ 13.9067],\n",
              "        [ 17.0032],\n",
              "        [ -6.4033],\n",
              "        [ -8.1799],\n",
              "        [-18.4820]], grad_fn=<AddmmBackward>)"
            ]
          },
          "metadata": {
            "tags": []
          },
          "execution_count": 108
        }
      ]
    },
    {
      "cell_type": "code",
      "metadata": {
        "colab": {
          "base_uri": "https://localhost:8080/"
        },
        "id": "3DK0XQNmUFBq",
        "outputId": "20b59049-6e7e-403b-b5fc-4ca474eb2635"
      },
      "source": [
        "y_.detach_()"
      ],
      "execution_count": 109,
      "outputs": [
        {
          "output_type": "execute_result",
          "data": {
            "text/plain": [
              "tensor([[ -6.0310],\n",
              "        [ 19.9183],\n",
              "        [ -0.4372],\n",
              "        [  8.3125],\n",
              "        [  1.3389],\n",
              "        [ 24.0455],\n",
              "        [  7.9449],\n",
              "        [-15.4482],\n",
              "        [-12.2849],\n",
              "        [ 12.9602],\n",
              "        [ 14.2233],\n",
              "        [  1.1403],\n",
              "        [  5.1198],\n",
              "        [ -2.2246],\n",
              "        [ 20.3460],\n",
              "        [ -4.7941],\n",
              "        [-12.6645],\n",
              "        [  2.2668],\n",
              "        [-24.8052],\n",
              "        [ 22.9017],\n",
              "        [-10.4370],\n",
              "        [ -7.3923],\n",
              "        [  3.9131],\n",
              "        [ -1.4336],\n",
              "        [ 11.8176],\n",
              "        [  4.9993],\n",
              "        [  1.0565],\n",
              "        [ 16.6948],\n",
              "        [ -0.8728],\n",
              "        [ 28.1712],\n",
              "        [ 11.9994],\n",
              "        [  5.1353],\n",
              "        [-14.4274],\n",
              "        [ 24.9652],\n",
              "        [  7.8295],\n",
              "        [ 19.6451],\n",
              "        [ 19.4784],\n",
              "        [  0.0668],\n",
              "        [  6.8671],\n",
              "        [  7.0949],\n",
              "        [ 28.4902],\n",
              "        [  1.7349],\n",
              "        [  4.7521],\n",
              "        [  7.5865],\n",
              "        [ 10.6305],\n",
              "        [ 13.9067],\n",
              "        [ 17.0032],\n",
              "        [ -6.4033],\n",
              "        [ -8.1799],\n",
              "        [-18.4820]])"
            ]
          },
          "metadata": {
            "tags": []
          },
          "execution_count": 109
        }
      ]
    },
    {
      "cell_type": "code",
      "metadata": {
        "id": "lqXdZsMha2JT"
      },
      "source": [
        "y_ = y_.numpy()\n",
        "X = X.numpy()\n",
        "y = y.numpy()"
      ],
      "execution_count": 110,
      "outputs": []
    },
    {
      "cell_type": "code",
      "metadata": {
        "colab": {
          "base_uri": "https://localhost:8080/",
          "height": 391
        },
        "id": "qODgvaesbEId",
        "outputId": "5a19ffaa-677f-49e2-9234-4f4a77d0303e"
      },
      "source": [
        "plt.style.use('ggplot')\n",
        "plt.figure(figsize=(10,6))\n",
        "plt.scatter(X, y, c='g')\n",
        "plt.plot(X, y_, c='r')"
      ],
      "execution_count": 116,
      "outputs": [
        {
          "output_type": "execute_result",
          "data": {
            "text/plain": [
              "[<matplotlib.lines.Line2D at 0x7f4bc5e99e10>]"
            ]
          },
          "metadata": {
            "tags": []
          },
          "execution_count": 116
        },
        {
          "output_type": "display_data",
          "data": {
            "image/png": "[encoded data removed]",
            "text/plain": [
              "<Figure size 720x432 with 1 Axes>"
            ]
          },
          "metadata": {
            "tags": []
          }
        }
      ]
    },
    {
      "cell_type": "code",
      "metadata": {
        "id": "Me2YE1ZabPKu"
      },
      "source": [
        ""
      ],
      "execution_count": null,
      "outputs": []
    }
  ]
}